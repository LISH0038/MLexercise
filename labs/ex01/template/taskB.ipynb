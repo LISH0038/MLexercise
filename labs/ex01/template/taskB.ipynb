{
  "nbformat": 4,
  "nbformat_minor": 0,
  "metadata": {
    "kernelspec": {
      "display_name": "Python 3",
      "language": "python",
      "name": "python3"
    },
    "language_info": {
      "codemirror_mode": {
        "name": "ipython",
        "version": 3
      },
      "file_extension": ".py",
      "mimetype": "text/x-python",
      "name": "python",
      "nbconvert_exporter": "python",
      "pygments_lexer": "ipython3",
      "version": "3.6.1"
    },
    "colab": {
      "name": "taskB.ipynb",
      "provenance": []
    }
  },
  "cells": [
    {
      "cell_type": "code",
      "metadata": {
        "id": "Gn-aJVRs1CO-",
        "colab": {
          "base_uri": "https://localhost:8080/"
        },
        "outputId": "0b83b9bf-ad16-40bf-9253-dd8a72f21dba"
      },
      "source": [
        "%matplotlib inline\n",
        "import numpy as np\n",
        "import matplotlib.pyplot as plt\n",
        "%load_ext autoreload\n",
        "%autoreload 2"
      ],
      "execution_count": 2,
      "outputs": [
        {
          "output_type": "stream",
          "name": "stdout",
          "text": [
            "The autoreload extension is already loaded. To reload it, use:\n",
            "  %reload_ext autoreload\n"
          ]
        }
      ]
    },
    {
      "cell_type": "markdown",
      "metadata": {
        "id": "cnMAdPuW1CPA"
      },
      "source": [
        "Data Generation\n",
        "==="
      ]
    },
    {
      "cell_type": "code",
      "metadata": {
        "colab": {
          "base_uri": "https://localhost:8080/"
        },
        "id": "0-hJ-OnD1CPB",
        "outputId": "ecccec74-838f-4985-9e10-ccae34a175a7"
      },
      "source": [
        "np.random.seed(10)\n",
        "p, q = (np.random.rand(i, 2) for i in (4, 5))\n",
        "p_big, q_big = (np.random.rand(i, 80) for i in (100, 120))\n",
        "\n",
        "print(p, \"\\n\\n\", q)"
      ],
      "execution_count": 3,
      "outputs": [
        {
          "output_type": "stream",
          "name": "stdout",
          "text": [
            "[[0.77132064 0.02075195]\n",
            " [0.63364823 0.74880388]\n",
            " [0.49850701 0.22479665]\n",
            " [0.19806286 0.76053071]] \n",
            "\n",
            " [[0.16911084 0.08833981]\n",
            " [0.68535982 0.95339335]\n",
            " [0.00394827 0.51219226]\n",
            " [0.81262096 0.61252607]\n",
            " [0.72175532 0.29187607]]\n"
          ]
        }
      ]
    },
    {
      "cell_type": "markdown",
      "metadata": {
        "id": "Ez9ZePTf1CPC"
      },
      "source": [
        "Solution\n",
        "==="
      ]
    },
    {
      "cell_type": "code",
      "metadata": {
        "collapsed": true,
        "id": "yfFN89f31CPD"
      },
      "source": [
        "def naive(p, q):\n",
        "    result = np.zeros((p.shape[0], q.shape[0]))\n",
        "    for i in range(p.shape[0]):\n",
        "        for j in range(q.shape[0]):\n",
        "            tmp = 0\n",
        "            for k in range(p.shape[1]):\n",
        "                tmp += (p[i,k]-q[j,k])**2\n",
        "            result[i,j] = tmp\n",
        "naive(p,q)"
      ],
      "execution_count": 24,
      "outputs": []
    },
    {
      "cell_type": "code",
      "metadata": {
        "colab": {
          "base_uri": "https://localhost:8080/",
          "height": 164
        },
        "id": "YpmCRXac2RGF",
        "outputId": "5b8f90e9-2c76-49d0-ba1b-4ba502e0a500"
      },
      "source": [
        ""
      ],
      "execution_count": null,
      "outputs": [
        {
          "output_type": "error",
          "ename": "NameError",
          "evalue": "ignored",
          "traceback": [
            "\u001b[0;31m---------------------------------------------------------------------------\u001b[0m",
            "\u001b[0;31mNameError\u001b[0m                                 Traceback (most recent call last)",
            "\u001b[0;32m<ipython-input-19-4fb65a9b6ef4>\u001b[0m in \u001b[0;36m<module>\u001b[0;34m()\u001b[0m\n\u001b[0;32m----> 1\u001b[0;31m \u001b[0mnp\u001b[0m\u001b[0;34m.\u001b[0m\u001b[0mlinalg\u001b[0m\u001b[0;34m.\u001b[0m\u001b[0mnorm\u001b[0m\u001b[0;34m(\u001b[0m\u001b[0mi\u001b[0m\u001b[0;34m-\u001b[0m\u001b[0mj\u001b[0m\u001b[0;34m)\u001b[0m\u001b[0;34m\u001b[0m\u001b[0;34m\u001b[0m\u001b[0m\n\u001b[0m",
            "\u001b[0;31mNameError\u001b[0m: name 'i' is not defined"
          ]
        }
      ]
    },
    {
      "cell_type": "markdown",
      "metadata": {
        "id": "xjFFgpsh1CPD"
      },
      "source": [
        "### Use matching indices\n",
        "\n",
        "Instead of iterating through indices, one can use them directly to parallelize the operations with Numpy."
      ]
    },
    {
      "cell_type": "code",
      "metadata": {
        "colab": {
          "base_uri": "https://localhost:8080/"
        },
        "id": "V_ptJosw1CPE",
        "outputId": "14fb3375-8dd0-4a0d-8c0f-4eb1579d7f92"
      },
      "source": [
        "rows, cols = np.indices((p.shape[0], q.shape[0]))\n",
        "print(rows, end='\\n\\n')\n",
        "print(cols)"
      ],
      "execution_count": 5,
      "outputs": [
        {
          "output_type": "stream",
          "name": "stdout",
          "text": [
            "[[0 0 0 0 0]\n",
            " [1 1 1 1 1]\n",
            " [2 2 2 2 2]\n",
            " [3 3 3 3 3]]\n",
            "\n",
            "[[0 1 2 3 4]\n",
            " [0 1 2 3 4]\n",
            " [0 1 2 3 4]\n",
            " [0 1 2 3 4]]\n"
          ]
        }
      ]
    },
    {
      "cell_type": "code",
      "metadata": {
        "colab": {
          "base_uri": "https://localhost:8080/"
        },
        "id": "-4-gJGfx1jvm",
        "outputId": "c9d7dada-a371-4455-e66a-d1ec72c5a947"
      },
      "source": [
        "p.shape[0]"
      ],
      "execution_count": null,
      "outputs": [
        {
          "output_type": "execute_result",
          "data": {
            "text/plain": [
              "4"
            ]
          },
          "metadata": {},
          "execution_count": 12
        }
      ]
    },
    {
      "cell_type": "code",
      "metadata": {
        "colab": {
          "base_uri": "https://localhost:8080/"
        },
        "id": "aMAWERzd1CPE",
        "outputId": "dd9a6a94-2cdd-4fc2-80eb-c95ab11cbd3b"
      },
      "source": [
        "print(p[rows.ravel()], end='\\n\\n')\n",
        "print(q[cols.ravel()])"
      ],
      "execution_count": 6,
      "outputs": [
        {
          "output_type": "stream",
          "name": "stdout",
          "text": [
            "[[0.77132064 0.02075195]\n",
            " [0.77132064 0.02075195]\n",
            " [0.77132064 0.02075195]\n",
            " [0.77132064 0.02075195]\n",
            " [0.77132064 0.02075195]\n",
            " [0.63364823 0.74880388]\n",
            " [0.63364823 0.74880388]\n",
            " [0.63364823 0.74880388]\n",
            " [0.63364823 0.74880388]\n",
            " [0.63364823 0.74880388]\n",
            " [0.49850701 0.22479665]\n",
            " [0.49850701 0.22479665]\n",
            " [0.49850701 0.22479665]\n",
            " [0.49850701 0.22479665]\n",
            " [0.49850701 0.22479665]\n",
            " [0.19806286 0.76053071]\n",
            " [0.19806286 0.76053071]\n",
            " [0.19806286 0.76053071]\n",
            " [0.19806286 0.76053071]\n",
            " [0.19806286 0.76053071]]\n",
            "\n",
            "[[0.16911084 0.08833981]\n",
            " [0.68535982 0.95339335]\n",
            " [0.00394827 0.51219226]\n",
            " [0.81262096 0.61252607]\n",
            " [0.72175532 0.29187607]\n",
            " [0.16911084 0.08833981]\n",
            " [0.68535982 0.95339335]\n",
            " [0.00394827 0.51219226]\n",
            " [0.81262096 0.61252607]\n",
            " [0.72175532 0.29187607]\n",
            " [0.16911084 0.08833981]\n",
            " [0.68535982 0.95339335]\n",
            " [0.00394827 0.51219226]\n",
            " [0.81262096 0.61252607]\n",
            " [0.72175532 0.29187607]\n",
            " [0.16911084 0.08833981]\n",
            " [0.68535982 0.95339335]\n",
            " [0.00394827 0.51219226]\n",
            " [0.81262096 0.61252607]\n",
            " [0.72175532 0.29187607]]\n"
          ]
        }
      ]
    },
    {
      "cell_type": "code",
      "metadata": {
        "collapsed": true,
        "colab": {
          "base_uri": "https://localhost:8080/"
        },
        "id": "hUYIhMaS1CPF",
        "outputId": "87d1c7b9-f008-4bd8-fee4-e5fb86a7f1bf"
      },
      "source": [
        "def with_indices(p, q):\n",
        "    rows, cols = np.indices((p.shape[0], q.shape[0]))\n",
        "    distances = np.sqrt(np.sum((p[rows.ravel(), :] - q[cols.ravel(), :])**2, axis=1))\n",
        "    return distances.reshape((p.shape[0], q.shape[0]))\n",
        "with_indices(p,q)"
      ],
      "execution_count": 20,
      "outputs": [
        {
          "output_type": "execute_result",
          "data": {
            "text/plain": [
              "array([[0.60599073, 0.93659449, 0.91124856, 0.59321356, 0.27561751],\n",
              "       [0.80746999, 0.21102354, 0.67268649, 0.22495084, 0.46534491],\n",
              "       [0.35654215, 0.75217493, 0.57200052, 0.49900068, 0.23310825],\n",
              "       [0.67281411, 0.52407472, 0.31520226, 0.63212897, 0.70277376]])"
            ]
          },
          "metadata": {},
          "execution_count": 20
        }
      ]
    },
    {
      "cell_type": "code",
      "metadata": {
        "colab": {
          "base_uri": "https://localhost:8080/"
        },
        "id": "z4gyh44aq5kH",
        "outputId": "caa965e2-7ae7-4d4f-bf4a-97c7e928084b"
      },
      "source": [
        "np.sum((p[rows.ravel(), :] - q[cols.ravel(), :])**2, axis=1)"
      ],
      "execution_count": 18,
      "outputs": [
        {
          "output_type": "execute_result",
          "data": {
            "text/plain": [
              "array([0.36722477, 0.87720924, 0.83037395, 0.35190232, 0.07596501,\n",
              "       0.65200778, 0.04453094, 0.45250711, 0.05060288, 0.21654589,\n",
              "       0.12712231, 0.56576712, 0.32718459, 0.24900168, 0.05433945,\n",
              "       0.45267882, 0.27465432, 0.09935246, 0.39958703, 0.49389096])"
            ]
          },
          "metadata": {},
          "execution_count": 18
        }
      ]
    },
    {
      "cell_type": "code",
      "metadata": {
        "colab": {
          "base_uri": "https://localhost:8080/"
        },
        "id": "WseRAq3WrtpE",
        "outputId": "b5529a21-1436-4358-b357-dbc5f95c4bc1"
      },
      "source": [
        "p[:,np.newaxis,:]"
      ],
      "execution_count": 26,
      "outputs": [
        {
          "output_type": "execute_result",
          "data": {
            "text/plain": [
              "array([[[0.77132064, 0.02075195]],\n",
              "\n",
              "       [[0.63364823, 0.74880388]],\n",
              "\n",
              "       [[0.49850701, 0.22479665]],\n",
              "\n",
              "       [[0.19806286, 0.76053071]]])"
            ]
          },
          "metadata": {},
          "execution_count": 26
        }
      ]
    },
    {
      "cell_type": "code",
      "metadata": {
        "colab": {
          "base_uri": "https://localhost:8080/"
        },
        "id": "U_nY3q0vxKt-",
        "outputId": "cefc2fe7-4e68-42f2-ddd4-1cad272a4b7b"
      },
      "source": [
        "q[np.newaxis,:,:]"
      ],
      "execution_count": 29,
      "outputs": [
        {
          "output_type": "execute_result",
          "data": {
            "text/plain": [
              "array([[[0.16911084, 0.08833981],\n",
              "        [0.68535982, 0.95339335],\n",
              "        [0.00394827, 0.51219226],\n",
              "        [0.81262096, 0.61252607],\n",
              "        [0.72175532, 0.29187607]]])"
            ]
          },
          "metadata": {},
          "execution_count": 29
        }
      ]
    },
    {
      "cell_type": "code",
      "metadata": {
        "colab": {
          "base_uri": "https://localhost:8080/"
        },
        "id": "_DKQQ-kfxioJ",
        "outputId": "afa16491-e63a-40b2-c99d-8a02a5685071"
      },
      "source": [
        "p[:,np.newaxis,:]-q[np.newaxis,:,:]"
      ],
      "execution_count": 30,
      "outputs": [
        {
          "output_type": "execute_result",
          "data": {
            "text/plain": [
              "array([[[ 0.60220981, -0.06758786],\n",
              "        [ 0.08596082, -0.9326414 ],\n",
              "        [ 0.76737238, -0.49144031],\n",
              "        [-0.04130032, -0.59177412],\n",
              "        [ 0.04956533, -0.27112412]],\n",
              "\n",
              "       [[ 0.4645374 ,  0.66046407],\n",
              "        [-0.05171158, -0.20458946],\n",
              "        [ 0.62969997,  0.23661162],\n",
              "        [-0.17897273,  0.13627782],\n",
              "        [-0.08810708,  0.45692781]],\n",
              "\n",
              "       [[ 0.32939618,  0.13645683],\n",
              "        [-0.18685281, -0.7285967 ],\n",
              "        [ 0.49455875, -0.28739562],\n",
              "        [-0.31411395, -0.38772942],\n",
              "        [-0.22324831, -0.06707942]],\n",
              "\n",
              "       [[ 0.02895203,  0.6721909 ],\n",
              "        [-0.48729695, -0.19286263],\n",
              "        [ 0.1941146 ,  0.24833845],\n",
              "        [-0.6145581 ,  0.14800465],\n",
              "        [-0.52369245,  0.46865464]]])"
            ]
          },
          "metadata": {},
          "execution_count": 30
        }
      ]
    },
    {
      "cell_type": "code",
      "metadata": {
        "colab": {
          "base_uri": "https://localhost:8080/"
        },
        "id": "gm5q5joPxngy",
        "outputId": "3e6a3386-fe27-4e3f-85cd-5f677b618752"
      },
      "source": [
        "p[:,np.newaxis,:].shape"
      ],
      "execution_count": 32,
      "outputs": [
        {
          "output_type": "execute_result",
          "data": {
            "text/plain": [
              "(4, 1, 2)"
            ]
          },
          "metadata": {},
          "execution_count": 32
        }
      ]
    },
    {
      "cell_type": "code",
      "metadata": {
        "colab": {
          "base_uri": "https://localhost:8080/"
        },
        "id": "kxjyifZax9d2",
        "outputId": "dc91bef5-5c23-4968-af2a-deccf0440134"
      },
      "source": [
        "q[np.newaxis,:,:].shape"
      ],
      "execution_count": 33,
      "outputs": [
        {
          "output_type": "execute_result",
          "data": {
            "text/plain": [
              "(1, 5, 2)"
            ]
          },
          "metadata": {},
          "execution_count": 33
        }
      ]
    },
    {
      "cell_type": "code",
      "metadata": {
        "colab": {
          "base_uri": "https://localhost:8080/"
        },
        "id": "47NAKvcyyGSw",
        "outputId": "85319e15-3fb0-4a35-c7e6-af2bbacde265"
      },
      "source": [
        "(p[:,np.newaxis,:]-q[np.newaxis,:,:]).shape"
      ],
      "execution_count": 35,
      "outputs": [
        {
          "output_type": "execute_result",
          "data": {
            "text/plain": [
              "(4, 5, 2)"
            ]
          },
          "metadata": {},
          "execution_count": 35
        }
      ]
    },
    {
      "cell_type": "code",
      "metadata": {
        "id": "hikWzmdLyF_0"
      },
      "source": [
        ""
      ],
      "execution_count": null,
      "outputs": []
    },
    {
      "cell_type": "markdown",
      "metadata": {
        "id": "THyb2IO91CPF"
      },
      "source": [
        "### Use a library\n",
        "\n",
        "`scipy` is the equivalent of matlab toolboxes and have a lot to offer. Actually the pairwise computation is part of the library through the `spatial` module."
      ]
    },
    {
      "cell_type": "code",
      "metadata": {
        "id": "QQwgn6GD1CPG"
      },
      "source": [
        "from scipy.spatial.distance import cdist\n",
        "\n",
        "def scipy_version(p, q):\n",
        "    return cdist(p, q)"
      ],
      "execution_count": 21,
      "outputs": []
    },
    {
      "cell_type": "markdown",
      "metadata": {
        "id": "GC5NmsOG1CPG"
      },
      "source": [
        "### Numpy Magic"
      ]
    },
    {
      "cell_type": "code",
      "metadata": {
        "id": "6GlgGtzN1CPH"
      },
      "source": [
        "def tensor_broadcasting(p, q):\n",
        "    return np.sqrt(np.sum((p[:,np.newaxis,:]-q[np.newaxis,:,:])**2, axis=2))"
      ],
      "execution_count": 22,
      "outputs": []
    },
    {
      "cell_type": "markdown",
      "metadata": {
        "id": "J-fsMT3Y1CPH"
      },
      "source": [
        "# Compare methods"
      ]
    },
    {
      "cell_type": "code",
      "metadata": {
        "colab": {
          "base_uri": "https://localhost:8080/"
        },
        "id": "5YNlLl9F1CPI",
        "outputId": "ac35f216-b260-438d-89a3-c867dccc10d0"
      },
      "source": [
        "methods = [naive, with_indices, scipy_version, tensor_broadcasting]\n",
        "timers = []\n",
        "for f in methods:\n",
        "    r = %timeit -o f(p_big, q_big)\n",
        "    timers.append(r)"
      ],
      "execution_count": 25,
      "outputs": [
        {
          "output_type": "stream",
          "name": "stdout",
          "text": [
            "1 loop, best of 5: 883 ms per loop\n",
            "100 loops, best of 5: 3.73 ms per loop\n",
            "1000 loops, best of 5: 644 µs per loop\n",
            "100 loops, best of 5: 2.46 ms per loop\n"
          ]
        }
      ]
    },
    {
      "cell_type": "code",
      "metadata": {
        "colab": {
          "base_uri": "https://localhost:8080/",
          "height": 438
        },
        "id": "MBPd2Cct1CPJ",
        "outputId": "ea212a0f-9c11-4cb9-b41e-31dd8d1c7723"
      },
      "source": [
        "plt.figure(figsize=(10,6))\n",
        "plt.bar(np.arange(len(methods)), [r.best*1000 for r in timers], log=False)  # Set log to True for logarithmic scale\n",
        "plt.xticks(np.arange(len(methods))+0.2, [f.__name__ for f in methods], rotation=30)\n",
        "plt.xlabel('Method')\n",
        "plt.ylabel('Time (ms)')\n",
        "plt.show()"
      ],
      "execution_count": 36,
      "outputs": [
        {
          "output_type": "display_data",
          "data": {
            "image/png": "[encoded data removed]",
            "text/plain": [
              "<Figure size 720x432 with 1 Axes>"
            ]
          },
          "metadata": {
            "needs_background": "light"
          }
        }
      ]
    },
    {
      "cell_type": "code",
      "metadata": {
        "collapsed": true,
        "id": "d4Md8NnP1CPL"
      },
      "source": [
        ""
      ],
      "execution_count": null,
      "outputs": []
    }
  ]
}