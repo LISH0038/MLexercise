{
  "nbformat": 4,
  "nbformat_minor": 0,
  "metadata": {
    "kernelspec": {
      "display_name": "Python 3",
      "language": "python",
      "name": "python3"
    },
    "language_info": {
      "codemirror_mode": {
        "name": "ipython",
        "version": 3
      },
      "file_extension": ".py",
      "mimetype": "text/x-python",
      "name": "python",
      "nbconvert_exporter": "python",
      "pygments_lexer": "ipython3",
      "version": "3.6.1"
    },
    "colab": {
      "name": "taskA.ipynb",
      "provenance": []
    }
  },
  "cells": [
    {
      "cell_type": "code",
      "metadata": {
        "collapsed": true,
        "id": "TKZo6G6fw75w",
        "outputId": "77499e8d-3cf9-4e38-87f9-8f5aa271b36a",
        "colab": {
          "base_uri": "https://localhost:8080/"
        }
      },
      "source": [
        "%matplotlib inline\n",
        "import numpy as np\n",
        "import matplotlib.pyplot as plt\n",
        "%load_ext autoreload\n",
        "%autoreload 2"
      ],
      "execution_count": 13,
      "outputs": [
        {
          "output_type": "stream",
          "name": "stdout",
          "text": [
            "The autoreload extension is already loaded. To reload it, use:\n",
            "  %reload_ext autoreload\n"
          ]
        }
      ]
    },
    {
      "cell_type": "markdown",
      "metadata": {
        "id": "qu6NVgLkx267"
      },
      "source": [
        ""
      ]
    },
    {
      "cell_type": "markdown",
      "metadata": {
        "id": "itL6J9_4w751"
      },
      "source": [
        "Data Generation\n",
        "==="
      ]
    },
    {
      "cell_type": "code",
      "metadata": {
        "collapsed": true,
        "id": "d4-D7SAbw753"
      },
      "source": [
        "num_samples, num_features = 10, 5"
      ],
      "execution_count": 14,
      "outputs": []
    },
    {
      "cell_type": "code",
      "metadata": {
        "collapsed": true,
        "id": "OMA1_0ZLw753"
      },
      "source": [
        "np.random.seed(10)\n",
        "data = np.random.rand(num_samples, num_features)"
      ],
      "execution_count": 15,
      "outputs": []
    },
    {
      "cell_type": "markdown",
      "metadata": {
        "id": "dKLGbu14w754"
      },
      "source": [
        "Solution\n",
        "==="
      ]
    },
    {
      "cell_type": "code",
      "metadata": {
        "scrolled": false,
        "id": "vqqhq-ZDw754",
        "outputId": "986f9f47-0de4-47f3-c152-7b5530339fa5",
        "colab": {
          "base_uri": "https://localhost:8080/"
        }
      },
      "source": [
        "print(data)"
      ],
      "execution_count": 16,
      "outputs": [
        {
          "output_type": "stream",
          "name": "stdout",
          "text": [
            "[[0.77132064 0.02075195 0.63364823 0.74880388 0.49850701]\n",
            " [0.22479665 0.19806286 0.76053071 0.16911084 0.08833981]\n",
            " [0.68535982 0.95339335 0.00394827 0.51219226 0.81262096]\n",
            " [0.61252607 0.72175532 0.29187607 0.91777412 0.71457578]\n",
            " [0.54254437 0.14217005 0.37334076 0.67413362 0.44183317]\n",
            " [0.43401399 0.61776698 0.51313824 0.65039718 0.60103895]\n",
            " [0.8052232  0.52164715 0.90864888 0.31923609 0.09045935]\n",
            " [0.30070006 0.11398436 0.82868133 0.04689632 0.62628715]\n",
            " [0.54758616 0.819287   0.19894754 0.8568503  0.35165264]\n",
            " [0.75464769 0.29596171 0.88393648 0.32551164 0.1650159 ]]\n"
          ]
        }
      ]
    },
    {
      "cell_type": "code",
      "metadata": {
        "id": "X7c4LZK3zIYq",
        "outputId": "7be4c7dc-95dc-4ebe-ba2c-9892f5e8eb9c",
        "colab": {
          "base_uri": "https://localhost:8080/"
        }
      },
      "source": [
        "data - np.mean(data, axis=0)"
      ],
      "execution_count": 19,
      "outputs": [
        {
          "output_type": "execute_result",
          "data": {
            "text/plain": [
              "array([[ 0.20344878, -0.41972612,  0.09397858,  0.22671326,  0.05947394],\n",
              "       [-0.34307522, -0.24241521,  0.22086106, -0.35297979, -0.35069326],\n",
              "       [ 0.11748795,  0.51291527, -0.53572138, -0.00989836,  0.37358789],\n",
              "       [ 0.0446542 ,  0.28127725, -0.24779358,  0.3956835 ,  0.27554271],\n",
              "       [-0.0253275 , -0.29830802, -0.16632889,  0.15204299,  0.0028001 ],\n",
              "       [-0.13385787,  0.17728891, -0.02653141,  0.12830656,  0.16200588],\n",
              "       [ 0.23735133,  0.08116908,  0.36897923, -0.20285454, -0.34857372],\n",
              "       [-0.26717181, -0.32649371,  0.28901168, -0.47519431,  0.18725407],\n",
              "       [-0.02028571,  0.37880892, -0.34072211,  0.33475968, -0.08738043],\n",
              "       [ 0.18677583, -0.14451637,  0.34426683, -0.19657899, -0.27401718]])"
            ]
          },
          "metadata": {},
          "execution_count": 19
        }
      ]
    },
    {
      "cell_type": "code",
      "metadata": {
        "collapsed": true,
        "id": "HomuQqqcw755"
      },
      "source": [
        "def standardize(x):\n",
        "    ''' fill your code in here...\n",
        "    '''\n",
        "    x = x -  np.mean(x, axis=0)\n",
        "    x = x / np.std(x, axis = 0)\n",
        "    return x\n",
        "\n",
        "std_data = standardize(data)"
      ],
      "execution_count": 22,
      "outputs": []
    },
    {
      "cell_type": "code",
      "metadata": {
        "id": "0ClZtNmWw756",
        "outputId": "d1fe53cc-2c5a-4baa-d6cf-aa15d25126e1",
        "colab": {
          "base_uri": "https://localhost:8080/"
        }
      },
      "source": [
        "print(std_data, \"\\n\\n\", np.mean(std_data, axis=0), \"\\n\\n\", np.std(std_data, axis=0))"
      ],
      "execution_count": 23,
      "outputs": [
        {
          "output_type": "stream",
          "name": "stdout",
          "text": [
            "[[ 1.0775774  -1.34411605  0.31525355  0.80665878  0.24128662]\n",
            " [-1.81711634 -0.77630186  0.74088404 -1.25592235 -1.42276759]\n",
            " [ 0.62228127  1.64254169 -1.797091   -0.03521894  1.51565143]\n",
            " [ 0.23651339  0.90075228 -0.83122987  1.40786459  1.11788073]\n",
            " [-0.13414844 -0.95529104 -0.55795449  0.54097769  0.01136005]\n",
            " [-0.70898541  0.56774371 -0.08900028  0.45652209  0.65726018]\n",
            " [ 1.2571441   0.25993298  1.23775021 -0.72176808 -1.4141686 ]\n",
            " [-1.41508984 -1.04555188  0.96949701 -1.69076861  0.75969247]\n",
            " [-0.10744434  1.21308427 -1.14296098  1.19109415 -0.35450368]\n",
            " [ 0.98926822 -0.46279408  1.15485183 -0.69943932 -1.11169162]] \n",
            "\n",
            " [-1.88737914e-16  5.55111512e-17 -2.22044605e-17  1.11022302e-17\n",
            "  2.44249065e-16] \n",
            "\n",
            " [1. 1. 1. 1. 1.]\n"
          ]
        }
      ]
    }
  ]
}